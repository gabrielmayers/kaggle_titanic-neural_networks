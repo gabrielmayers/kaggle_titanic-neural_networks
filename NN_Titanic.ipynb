{
  "nbformat": 4,
  "nbformat_minor": 0,
  "metadata": {
    "colab": {
      "name": "NN-Titanic.ipynb",
      "provenance": []
    },
    "kernelspec": {
      "name": "python3",
      "display_name": "Python 3"
    },
    "accelerator": "GPU"
  },
  "cells": [
    {
      "cell_type": "code",
      "metadata": {
        "id": "ntJhmxg2U-Vw",
        "colab_type": "code",
        "colab": {}
      },
      "source": [
        "import numpy as np\n",
        "import pandas as pd\n",
        "import matplotlib.pyplot as plt\n",
        "import tensorflow as tf"
      ],
      "execution_count": 0,
      "outputs": []
    },
    {
      "cell_type": "code",
      "metadata": {
        "id": "ReSp04ubVYdr",
        "colab_type": "code",
        "outputId": "7d36dda8-3f7f-4050-c131-1745a5c7dedc",
        "colab": {
          "resources": {
            "http://localhost:8080/nbextensions/google.colab/files.js": {
              "data": "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",
              "ok": true,
              "headers": [
                [
                  "content-type",
                  "application/javascript"
                ]
              ],
              "status": 200,
              "status_text": ""
            }
          },
          "base_uri": "https://localhost:8080/",
          "height": 74
        }
      },
      "source": [
        "from google.colab import files\n",
        "uploaded = files.upload()"
      ],
      "execution_count": 2,
      "outputs": [
        {
          "output_type": "display_data",
          "data": {
            "text/html": [
              "\n",
              "     <input type=\"file\" id=\"files-f05f9cb4-eb1c-4cc1-8e57-49b5d134c250\" name=\"files[]\" multiple disabled />\n",
              "     <output id=\"result-f05f9cb4-eb1c-4cc1-8e57-49b5d134c250\">\n",
              "      Upload widget is only available when the cell has been executed in the\n",
              "      current browser session. Please rerun this cell to enable.\n",
              "      </output>\n",
              "      <script src=\"/nbextensions/google.colab/files.js\"></script> "
            ],
            "text/plain": [
              "<IPython.core.display.HTML object>"
            ]
          },
          "metadata": {
            "tags": []
          }
        },
        {
          "output_type": "stream",
          "text": [
            "Saving train.csv to train.csv\n"
          ],
          "name": "stdout"
        }
      ]
    },
    {
      "cell_type": "code",
      "metadata": {
        "id": "0QuNGUzEVuWz",
        "colab_type": "code",
        "colab": {}
      },
      "source": [
        "import io\n",
        "train = pd.read_csv(io.BytesIO(uploaded['train.csv']))"
      ],
      "execution_count": 0,
      "outputs": []
    },
    {
      "cell_type": "code",
      "metadata": {
        "id": "MgUdubxfVz4y",
        "colab_type": "code",
        "outputId": "5ad138a4-aa27-4cad-d64a-4c84a9b77e86",
        "colab": {
          "base_uri": "https://localhost:8080/",
          "height": 204
        }
      },
      "source": [
        "train.head()"
      ],
      "execution_count": 4,
      "outputs": [
        {
          "output_type": "execute_result",
          "data": {
            "text/html": [
              "<div>\n",
              "<style scoped>\n",
              "    .dataframe tbody tr th:only-of-type {\n",
              "        vertical-align: middle;\n",
              "    }\n",
              "\n",
              "    .dataframe tbody tr th {\n",
              "        vertical-align: top;\n",
              "    }\n",
              "\n",
              "    .dataframe thead th {\n",
              "        text-align: right;\n",
              "    }\n",
              "</style>\n",
              "<table border=\"1\" class=\"dataframe\">\n",
              "  <thead>\n",
              "    <tr style=\"text-align: right;\">\n",
              "      <th></th>\n",
              "      <th>Survived</th>\n",
              "      <th>Pclass</th>\n",
              "      <th>Age</th>\n",
              "      <th>SibSp</th>\n",
              "      <th>Parch</th>\n",
              "      <th>Fare</th>\n",
              "      <th>male</th>\n",
              "      <th>Q</th>\n",
              "      <th>S</th>\n",
              "    </tr>\n",
              "  </thead>\n",
              "  <tbody>\n",
              "    <tr>\n",
              "      <th>0</th>\n",
              "      <td>0</td>\n",
              "      <td>3</td>\n",
              "      <td>22.0</td>\n",
              "      <td>1</td>\n",
              "      <td>0</td>\n",
              "      <td>7.2500</td>\n",
              "      <td>1</td>\n",
              "      <td>0</td>\n",
              "      <td>1</td>\n",
              "    </tr>\n",
              "    <tr>\n",
              "      <th>1</th>\n",
              "      <td>1</td>\n",
              "      <td>1</td>\n",
              "      <td>38.0</td>\n",
              "      <td>1</td>\n",
              "      <td>0</td>\n",
              "      <td>71.2833</td>\n",
              "      <td>0</td>\n",
              "      <td>0</td>\n",
              "      <td>0</td>\n",
              "    </tr>\n",
              "    <tr>\n",
              "      <th>2</th>\n",
              "      <td>1</td>\n",
              "      <td>3</td>\n",
              "      <td>26.0</td>\n",
              "      <td>0</td>\n",
              "      <td>0</td>\n",
              "      <td>7.9250</td>\n",
              "      <td>0</td>\n",
              "      <td>0</td>\n",
              "      <td>1</td>\n",
              "    </tr>\n",
              "    <tr>\n",
              "      <th>3</th>\n",
              "      <td>1</td>\n",
              "      <td>1</td>\n",
              "      <td>35.0</td>\n",
              "      <td>1</td>\n",
              "      <td>0</td>\n",
              "      <td>53.1000</td>\n",
              "      <td>0</td>\n",
              "      <td>0</td>\n",
              "      <td>1</td>\n",
              "    </tr>\n",
              "    <tr>\n",
              "      <th>4</th>\n",
              "      <td>0</td>\n",
              "      <td>3</td>\n",
              "      <td>35.0</td>\n",
              "      <td>0</td>\n",
              "      <td>0</td>\n",
              "      <td>8.0500</td>\n",
              "      <td>1</td>\n",
              "      <td>0</td>\n",
              "      <td>1</td>\n",
              "    </tr>\n",
              "  </tbody>\n",
              "</table>\n",
              "</div>"
            ],
            "text/plain": [
              "   Survived  Pclass   Age  SibSp  Parch     Fare  male  Q  S\n",
              "0         0       3  22.0      1      0   7.2500     1  0  1\n",
              "1         1       1  38.0      1      0  71.2833     0  0  0\n",
              "2         1       3  26.0      0      0   7.9250     0  0  1\n",
              "3         1       1  35.0      1      0  53.1000     0  0  1\n",
              "4         0       3  35.0      0      0   8.0500     1  0  1"
            ]
          },
          "metadata": {
            "tags": []
          },
          "execution_count": 4
        }
      ]
    },
    {
      "cell_type": "code",
      "metadata": {
        "id": "-NZJJyyzV3cN",
        "colab_type": "code",
        "colab": {}
      },
      "source": [
        "X = train.drop(columns='Survived')\n",
        "y = train['Survived']"
      ],
      "execution_count": 0,
      "outputs": []
    },
    {
      "cell_type": "code",
      "metadata": {
        "id": "uIJNh7C2V_4B",
        "colab_type": "code",
        "colab": {}
      },
      "source": [
        "from sklearn.model_selection import train_test_split\n",
        "\n",
        "X_train, X_test, y_train, y_test = train_test_split(X, y, test_size=0.25)"
      ],
      "execution_count": 0,
      "outputs": []
    },
    {
      "cell_type": "markdown",
      "metadata": {
        "id": "UUYnBisXWMCa",
        "colab_type": "text"
      },
      "source": [
        "## **Model**"
      ]
    },
    {
      "cell_type": "code",
      "metadata": {
        "id": "6ecH_priWKsu",
        "colab_type": "code",
        "outputId": "6daae46c-e0d5-4968-80cd-f3233b174740",
        "colab": {
          "base_uri": "https://localhost:8080/",
          "height": 289
        }
      },
      "source": [
        "model = tf.keras.models.Sequential()\n",
        "\n",
        "model.add(tf.keras.layers.Flatten(input_shape=(8, )))\n",
        "model.add(tf.keras.layers.Dense(32, activation='relu'))\n",
        "model.add(tf.keras.layers.Dense(32, activation='relu'))\n",
        "model.add(tf.keras.layers.Dense(1, activation='sigmoid'))\n",
        "\n",
        "model.summary()"
      ],
      "execution_count": 16,
      "outputs": [
        {
          "output_type": "stream",
          "text": [
            "Model: \"sequential_1\"\n",
            "_________________________________________________________________\n",
            "Layer (type)                 Output Shape              Param #   \n",
            "=================================================================\n",
            "flatten_1 (Flatten)          (None, 8)                 0         \n",
            "_________________________________________________________________\n",
            "dense_3 (Dense)              (None, 32)                288       \n",
            "_________________________________________________________________\n",
            "dense_4 (Dense)              (None, 32)                1056      \n",
            "_________________________________________________________________\n",
            "dense_5 (Dense)              (None, 1)                 33        \n",
            "=================================================================\n",
            "Total params: 1,377\n",
            "Trainable params: 1,377\n",
            "Non-trainable params: 0\n",
            "_________________________________________________________________\n"
          ],
          "name": "stdout"
        }
      ]
    },
    {
      "cell_type": "code",
      "metadata": {
        "id": "ujIAumBcWilr",
        "colab_type": "code",
        "colab": {}
      },
      "source": [
        "model.compile(loss='binary_crossentropy',\n",
        "              optimizer='adam',\n",
        "              metrics=['accuracy'])"
      ],
      "execution_count": 0,
      "outputs": []
    },
    {
      "cell_type": "code",
      "metadata": {
        "id": "n2SZAeJhWteQ",
        "colab_type": "code",
        "outputId": "9d459ce1-62b5-44ac-dc03-a2735c8fe216",
        "colab": {
          "base_uri": "https://localhost:8080/",
          "height": 1000
        }
      },
      "source": [
        "model.fit(X_train, y_train, epochs=150, batch_size=15)"
      ],
      "execution_count": 21,
      "outputs": [
        {
          "output_type": "stream",
          "text": [
            "Epoch 1/150\n",
            "45/45 [==============================] - 0s 3ms/step - loss: 0.4059 - accuracy: 0.8138\n",
            "Epoch 2/150\n",
            "45/45 [==============================] - 0s 3ms/step - loss: 0.4453 - accuracy: 0.8033\n",
            "Epoch 3/150\n",
            "45/45 [==============================] - 0s 3ms/step - loss: 0.4364 - accuracy: 0.8078\n",
            "Epoch 4/150\n",
            "45/45 [==============================] - 0s 3ms/step - loss: 0.4186 - accuracy: 0.8138\n",
            "Epoch 5/150\n",
            "45/45 [==============================] - 0s 3ms/step - loss: 0.4278 - accuracy: 0.8063\n",
            "Epoch 6/150\n",
            "45/45 [==============================] - 0s 3ms/step - loss: 0.4185 - accuracy: 0.8183\n",
            "Epoch 7/150\n",
            "45/45 [==============================] - 0s 3ms/step - loss: 0.4227 - accuracy: 0.8048\n",
            "Epoch 8/150\n",
            "45/45 [==============================] - 0s 3ms/step - loss: 0.4357 - accuracy: 0.8138\n",
            "Epoch 9/150\n",
            "45/45 [==============================] - 0s 3ms/step - loss: 0.4089 - accuracy: 0.8183\n",
            "Epoch 10/150\n",
            "45/45 [==============================] - 0s 3ms/step - loss: 0.4197 - accuracy: 0.8138\n",
            "Epoch 11/150\n",
            "45/45 [==============================] - 0s 3ms/step - loss: 0.4094 - accuracy: 0.8138\n",
            "Epoch 12/150\n",
            "45/45 [==============================] - 0s 3ms/step - loss: 0.4443 - accuracy: 0.8033\n",
            "Epoch 13/150\n",
            "45/45 [==============================] - 0s 3ms/step - loss: 0.4165 - accuracy: 0.8183\n",
            "Epoch 14/150\n",
            "45/45 [==============================] - 0s 3ms/step - loss: 0.4101 - accuracy: 0.8093\n",
            "Epoch 15/150\n",
            "45/45 [==============================] - 0s 3ms/step - loss: 0.4123 - accuracy: 0.8138\n",
            "Epoch 16/150\n",
            "45/45 [==============================] - 0s 3ms/step - loss: 0.4061 - accuracy: 0.8198\n",
            "Epoch 17/150\n",
            "45/45 [==============================] - 0s 3ms/step - loss: 0.4054 - accuracy: 0.8123\n",
            "Epoch 18/150\n",
            "45/45 [==============================] - 0s 3ms/step - loss: 0.4050 - accuracy: 0.8078\n",
            "Epoch 19/150\n",
            "45/45 [==============================] - 0s 3ms/step - loss: 0.4162 - accuracy: 0.8183\n",
            "Epoch 20/150\n",
            "45/45 [==============================] - 0s 3ms/step - loss: 0.4113 - accuracy: 0.8153\n",
            "Epoch 21/150\n",
            "45/45 [==============================] - 0s 3ms/step - loss: 0.4421 - accuracy: 0.8213\n",
            "Epoch 22/150\n",
            "45/45 [==============================] - 0s 3ms/step - loss: 0.4077 - accuracy: 0.8123\n",
            "Epoch 23/150\n",
            "45/45 [==============================] - 0s 3ms/step - loss: 0.4178 - accuracy: 0.8138\n",
            "Epoch 24/150\n",
            "45/45 [==============================] - 0s 3ms/step - loss: 0.4245 - accuracy: 0.8093\n",
            "Epoch 25/150\n",
            "45/45 [==============================] - 0s 3ms/step - loss: 0.4090 - accuracy: 0.8213\n",
            "Epoch 26/150\n",
            "45/45 [==============================] - 0s 3ms/step - loss: 0.4058 - accuracy: 0.8198\n",
            "Epoch 27/150\n",
            "45/45 [==============================] - 0s 3ms/step - loss: 0.4102 - accuracy: 0.8063\n",
            "Epoch 28/150\n",
            "45/45 [==============================] - 0s 4ms/step - loss: 0.4140 - accuracy: 0.8168\n",
            "Epoch 29/150\n",
            "45/45 [==============================] - 0s 3ms/step - loss: 0.4110 - accuracy: 0.8183\n",
            "Epoch 30/150\n",
            "45/45 [==============================] - 0s 3ms/step - loss: 0.4033 - accuracy: 0.8213\n",
            "Epoch 31/150\n",
            "45/45 [==============================] - 0s 3ms/step - loss: 0.3976 - accuracy: 0.8108\n",
            "Epoch 32/150\n",
            "45/45 [==============================] - 0s 3ms/step - loss: 0.3975 - accuracy: 0.8228\n",
            "Epoch 33/150\n",
            "45/45 [==============================] - 0s 3ms/step - loss: 0.4022 - accuracy: 0.8108\n",
            "Epoch 34/150\n",
            "45/45 [==============================] - 0s 3ms/step - loss: 0.4224 - accuracy: 0.8063\n",
            "Epoch 35/150\n",
            "45/45 [==============================] - 0s 3ms/step - loss: 0.4000 - accuracy: 0.8168\n",
            "Epoch 36/150\n",
            "45/45 [==============================] - 0s 3ms/step - loss: 0.4009 - accuracy: 0.8153\n",
            "Epoch 37/150\n",
            "45/45 [==============================] - 0s 3ms/step - loss: 0.3999 - accuracy: 0.8123\n",
            "Epoch 38/150\n",
            "45/45 [==============================] - 0s 3ms/step - loss: 0.4159 - accuracy: 0.8228\n",
            "Epoch 39/150\n",
            "45/45 [==============================] - 0s 3ms/step - loss: 0.4187 - accuracy: 0.8108\n",
            "Epoch 40/150\n",
            "45/45 [==============================] - 0s 3ms/step - loss: 0.4066 - accuracy: 0.8183\n",
            "Epoch 41/150\n",
            "45/45 [==============================] - 0s 3ms/step - loss: 0.4094 - accuracy: 0.8168\n",
            "Epoch 42/150\n",
            "45/45 [==============================] - 0s 3ms/step - loss: 0.3992 - accuracy: 0.8198\n",
            "Epoch 43/150\n",
            "45/45 [==============================] - 0s 3ms/step - loss: 0.3974 - accuracy: 0.8228\n",
            "Epoch 44/150\n",
            "45/45 [==============================] - 0s 3ms/step - loss: 0.3932 - accuracy: 0.8213\n",
            "Epoch 45/150\n",
            "45/45 [==============================] - 0s 3ms/step - loss: 0.4049 - accuracy: 0.8153\n",
            "Epoch 46/150\n",
            "45/45 [==============================] - 0s 3ms/step - loss: 0.4075 - accuracy: 0.8093\n",
            "Epoch 47/150\n",
            "45/45 [==============================] - 0s 3ms/step - loss: 0.4040 - accuracy: 0.8078\n",
            "Epoch 48/150\n",
            "45/45 [==============================] - 0s 3ms/step - loss: 0.3958 - accuracy: 0.8228\n",
            "Epoch 49/150\n",
            "45/45 [==============================] - 0s 3ms/step - loss: 0.4050 - accuracy: 0.8198\n",
            "Epoch 50/150\n",
            "45/45 [==============================] - 0s 3ms/step - loss: 0.4070 - accuracy: 0.8153\n",
            "Epoch 51/150\n",
            "45/45 [==============================] - 0s 3ms/step - loss: 0.4191 - accuracy: 0.8168\n",
            "Epoch 52/150\n",
            "45/45 [==============================] - 0s 3ms/step - loss: 0.3986 - accuracy: 0.8183\n",
            "Epoch 53/150\n",
            "45/45 [==============================] - 0s 3ms/step - loss: 0.4079 - accuracy: 0.8213\n",
            "Epoch 54/150\n",
            "45/45 [==============================] - 0s 3ms/step - loss: 0.3911 - accuracy: 0.8123\n",
            "Epoch 55/150\n",
            "45/45 [==============================] - 0s 4ms/step - loss: 0.4130 - accuracy: 0.8168\n",
            "Epoch 56/150\n",
            "45/45 [==============================] - 0s 3ms/step - loss: 0.3967 - accuracy: 0.8153\n",
            "Epoch 57/150\n",
            "45/45 [==============================] - 0s 3ms/step - loss: 0.3958 - accuracy: 0.8228\n",
            "Epoch 58/150\n",
            "45/45 [==============================] - 0s 3ms/step - loss: 0.3941 - accuracy: 0.8273\n",
            "Epoch 59/150\n",
            "45/45 [==============================] - 0s 3ms/step - loss: 0.3958 - accuracy: 0.8153\n",
            "Epoch 60/150\n",
            "45/45 [==============================] - 0s 3ms/step - loss: 0.4075 - accuracy: 0.8243\n",
            "Epoch 61/150\n",
            "45/45 [==============================] - 0s 3ms/step - loss: 0.3992 - accuracy: 0.8108\n",
            "Epoch 62/150\n",
            "45/45 [==============================] - 0s 3ms/step - loss: 0.4003 - accuracy: 0.8153\n",
            "Epoch 63/150\n",
            "45/45 [==============================] - 0s 3ms/step - loss: 0.3986 - accuracy: 0.8198\n",
            "Epoch 64/150\n",
            "45/45 [==============================] - 0s 3ms/step - loss: 0.3894 - accuracy: 0.8183\n",
            "Epoch 65/150\n",
            "45/45 [==============================] - 0s 3ms/step - loss: 0.3957 - accuracy: 0.8168\n",
            "Epoch 66/150\n",
            "45/45 [==============================] - 0s 3ms/step - loss: 0.3968 - accuracy: 0.8138\n",
            "Epoch 67/150\n",
            "45/45 [==============================] - 0s 3ms/step - loss: 0.3932 - accuracy: 0.8213\n",
            "Epoch 68/150\n",
            "45/45 [==============================] - 0s 3ms/step - loss: 0.3962 - accuracy: 0.8183\n",
            "Epoch 69/150\n",
            "45/45 [==============================] - 0s 3ms/step - loss: 0.4057 - accuracy: 0.8123\n",
            "Epoch 70/150\n",
            "45/45 [==============================] - 0s 4ms/step - loss: 0.3954 - accuracy: 0.8168\n",
            "Epoch 71/150\n",
            "45/45 [==============================] - 0s 3ms/step - loss: 0.4077 - accuracy: 0.7988\n",
            "Epoch 72/150\n",
            "45/45 [==============================] - 0s 3ms/step - loss: 0.4097 - accuracy: 0.8153\n",
            "Epoch 73/150\n",
            "45/45 [==============================] - 0s 3ms/step - loss: 0.4479 - accuracy: 0.8153\n",
            "Epoch 74/150\n",
            "45/45 [==============================] - 0s 3ms/step - loss: 0.3936 - accuracy: 0.8273\n",
            "Epoch 75/150\n",
            "45/45 [==============================] - 0s 3ms/step - loss: 0.3902 - accuracy: 0.8258\n",
            "Epoch 76/150\n",
            "45/45 [==============================] - 0s 3ms/step - loss: 0.3914 - accuracy: 0.8228\n",
            "Epoch 77/150\n",
            "45/45 [==============================] - 0s 3ms/step - loss: 0.3950 - accuracy: 0.8213\n",
            "Epoch 78/150\n",
            "45/45 [==============================] - 0s 3ms/step - loss: 0.3846 - accuracy: 0.8318\n",
            "Epoch 79/150\n",
            "45/45 [==============================] - 0s 3ms/step - loss: 0.3941 - accuracy: 0.8183\n",
            "Epoch 80/150\n",
            "45/45 [==============================] - 0s 3ms/step - loss: 0.3925 - accuracy: 0.8003\n",
            "Epoch 81/150\n",
            "45/45 [==============================] - 0s 3ms/step - loss: 0.3964 - accuracy: 0.8273\n",
            "Epoch 82/150\n",
            "45/45 [==============================] - 0s 3ms/step - loss: 0.4128 - accuracy: 0.8078\n",
            "Epoch 83/150\n",
            "45/45 [==============================] - 0s 3ms/step - loss: 0.3911 - accuracy: 0.8303\n",
            "Epoch 84/150\n",
            "45/45 [==============================] - 0s 3ms/step - loss: 0.3936 - accuracy: 0.8123\n",
            "Epoch 85/150\n",
            "45/45 [==============================] - 0s 3ms/step - loss: 0.3845 - accuracy: 0.8303\n",
            "Epoch 86/150\n",
            "45/45 [==============================] - 0s 3ms/step - loss: 0.3868 - accuracy: 0.8303\n",
            "Epoch 87/150\n",
            "45/45 [==============================] - 0s 3ms/step - loss: 0.4061 - accuracy: 0.8228\n",
            "Epoch 88/150\n",
            "45/45 [==============================] - 0s 3ms/step - loss: 0.3954 - accuracy: 0.8198\n",
            "Epoch 89/150\n",
            "45/45 [==============================] - 0s 3ms/step - loss: 0.3842 - accuracy: 0.8228\n",
            "Epoch 90/150\n",
            "45/45 [==============================] - 0s 3ms/step - loss: 0.3876 - accuracy: 0.8183\n",
            "Epoch 91/150\n",
            "45/45 [==============================] - 0s 3ms/step - loss: 0.3982 - accuracy: 0.8138\n",
            "Epoch 92/150\n",
            "45/45 [==============================] - 0s 3ms/step - loss: 0.3974 - accuracy: 0.8228\n",
            "Epoch 93/150\n",
            "45/45 [==============================] - 0s 3ms/step - loss: 0.3889 - accuracy: 0.8258\n",
            "Epoch 94/150\n",
            "45/45 [==============================] - 0s 3ms/step - loss: 0.3946 - accuracy: 0.8228\n",
            "Epoch 95/150\n",
            "45/45 [==============================] - 0s 3ms/step - loss: 0.3958 - accuracy: 0.8198\n",
            "Epoch 96/150\n",
            "45/45 [==============================] - 0s 3ms/step - loss: 0.3919 - accuracy: 0.8213\n",
            "Epoch 97/150\n",
            "45/45 [==============================] - 0s 3ms/step - loss: 0.3867 - accuracy: 0.8258\n",
            "Epoch 98/150\n",
            "45/45 [==============================] - 0s 3ms/step - loss: 0.3949 - accuracy: 0.8183\n",
            "Epoch 99/150\n",
            "45/45 [==============================] - 0s 3ms/step - loss: 0.3874 - accuracy: 0.8153\n",
            "Epoch 100/150\n",
            "45/45 [==============================] - 0s 3ms/step - loss: 0.3820 - accuracy: 0.8198\n",
            "Epoch 101/150\n",
            "45/45 [==============================] - 0s 3ms/step - loss: 0.3847 - accuracy: 0.8318\n",
            "Epoch 102/150\n",
            "45/45 [==============================] - 0s 3ms/step - loss: 0.4069 - accuracy: 0.8123\n",
            "Epoch 103/150\n",
            "45/45 [==============================] - 0s 3ms/step - loss: 0.3884 - accuracy: 0.8198\n",
            "Epoch 104/150\n",
            "45/45 [==============================] - 0s 3ms/step - loss: 0.3878 - accuracy: 0.8243\n",
            "Epoch 105/150\n",
            "45/45 [==============================] - 0s 3ms/step - loss: 0.3766 - accuracy: 0.8303\n",
            "Epoch 106/150\n",
            "45/45 [==============================] - 0s 3ms/step - loss: 0.3838 - accuracy: 0.8273\n",
            "Epoch 107/150\n",
            "45/45 [==============================] - 0s 3ms/step - loss: 0.3820 - accuracy: 0.8273\n",
            "Epoch 108/150\n",
            "45/45 [==============================] - 0s 3ms/step - loss: 0.3841 - accuracy: 0.8273\n",
            "Epoch 109/150\n",
            "45/45 [==============================] - 0s 3ms/step - loss: 0.3873 - accuracy: 0.8273\n",
            "Epoch 110/150\n",
            "45/45 [==============================] - 0s 3ms/step - loss: 0.3942 - accuracy: 0.8243\n",
            "Epoch 111/150\n",
            "45/45 [==============================] - 0s 3ms/step - loss: 0.3963 - accuracy: 0.8183\n",
            "Epoch 112/150\n",
            "45/45 [==============================] - 0s 3ms/step - loss: 0.3767 - accuracy: 0.8198\n",
            "Epoch 113/150\n",
            "45/45 [==============================] - 0s 3ms/step - loss: 0.3846 - accuracy: 0.8258\n",
            "Epoch 114/150\n",
            "45/45 [==============================] - 0s 3ms/step - loss: 0.3732 - accuracy: 0.8288\n",
            "Epoch 115/150\n",
            "45/45 [==============================] - 0s 3ms/step - loss: 0.3976 - accuracy: 0.8198\n",
            "Epoch 116/150\n",
            "45/45 [==============================] - 0s 3ms/step - loss: 0.3802 - accuracy: 0.8273\n",
            "Epoch 117/150\n",
            "45/45 [==============================] - 0s 3ms/step - loss: 0.4021 - accuracy: 0.8123\n",
            "Epoch 118/150\n",
            "45/45 [==============================] - 0s 3ms/step - loss: 0.3882 - accuracy: 0.8333\n",
            "Epoch 119/150\n",
            "45/45 [==============================] - 0s 3ms/step - loss: 0.3774 - accuracy: 0.8333\n",
            "Epoch 120/150\n",
            "45/45 [==============================] - 0s 3ms/step - loss: 0.3736 - accuracy: 0.8273\n",
            "Epoch 121/150\n",
            "45/45 [==============================] - 0s 3ms/step - loss: 0.3782 - accuracy: 0.8318\n",
            "Epoch 122/150\n",
            "45/45 [==============================] - 0s 3ms/step - loss: 0.3743 - accuracy: 0.8258\n",
            "Epoch 123/150\n",
            "45/45 [==============================] - 0s 3ms/step - loss: 0.3783 - accuracy: 0.8348\n",
            "Epoch 124/150\n",
            "45/45 [==============================] - 0s 4ms/step - loss: 0.3872 - accuracy: 0.8303\n",
            "Epoch 125/150\n",
            "45/45 [==============================] - 0s 3ms/step - loss: 0.3785 - accuracy: 0.8288\n",
            "Epoch 126/150\n",
            "45/45 [==============================] - 0s 3ms/step - loss: 0.3792 - accuracy: 0.8213\n",
            "Epoch 127/150\n",
            "45/45 [==============================] - 0s 3ms/step - loss: 0.3796 - accuracy: 0.8288\n",
            "Epoch 128/150\n",
            "45/45 [==============================] - 0s 3ms/step - loss: 0.3887 - accuracy: 0.8258\n",
            "Epoch 129/150\n",
            "45/45 [==============================] - 0s 3ms/step - loss: 0.3981 - accuracy: 0.8258\n",
            "Epoch 130/150\n",
            "45/45 [==============================] - 0s 3ms/step - loss: 0.3955 - accuracy: 0.8168\n",
            "Epoch 131/150\n",
            "45/45 [==============================] - 0s 3ms/step - loss: 0.3784 - accuracy: 0.8333\n",
            "Epoch 132/150\n",
            "45/45 [==============================] - 0s 3ms/step - loss: 0.3958 - accuracy: 0.8303\n",
            "Epoch 133/150\n",
            "45/45 [==============================] - 0s 3ms/step - loss: 0.3745 - accuracy: 0.8408\n",
            "Epoch 134/150\n",
            "45/45 [==============================] - 0s 3ms/step - loss: 0.3863 - accuracy: 0.8273\n",
            "Epoch 135/150\n",
            "45/45 [==============================] - 0s 3ms/step - loss: 0.3850 - accuracy: 0.8333\n",
            "Epoch 136/150\n",
            "45/45 [==============================] - 0s 3ms/step - loss: 0.3746 - accuracy: 0.8363\n",
            "Epoch 137/150\n",
            "45/45 [==============================] - 0s 3ms/step - loss: 0.3763 - accuracy: 0.8288\n",
            "Epoch 138/150\n",
            "45/45 [==============================] - 0s 3ms/step - loss: 0.3800 - accuracy: 0.8363\n",
            "Epoch 139/150\n",
            "45/45 [==============================] - 0s 3ms/step - loss: 0.3746 - accuracy: 0.8273\n",
            "Epoch 140/150\n",
            "45/45 [==============================] - 0s 3ms/step - loss: 0.3807 - accuracy: 0.8378\n",
            "Epoch 141/150\n",
            "45/45 [==============================] - 0s 3ms/step - loss: 0.3789 - accuracy: 0.8363\n",
            "Epoch 142/150\n",
            "45/45 [==============================] - 0s 3ms/step - loss: 0.3778 - accuracy: 0.8273\n",
            "Epoch 143/150\n",
            "45/45 [==============================] - 0s 3ms/step - loss: 0.3747 - accuracy: 0.8243\n",
            "Epoch 144/150\n",
            "45/45 [==============================] - 0s 3ms/step - loss: 0.3680 - accuracy: 0.8318\n",
            "Epoch 145/150\n",
            "45/45 [==============================] - 0s 3ms/step - loss: 0.3892 - accuracy: 0.8393\n",
            "Epoch 146/150\n",
            "45/45 [==============================] - 0s 3ms/step - loss: 0.3868 - accuracy: 0.8318\n",
            "Epoch 147/150\n",
            "45/45 [==============================] - 0s 3ms/step - loss: 0.3764 - accuracy: 0.8378\n",
            "Epoch 148/150\n",
            "45/45 [==============================] - 0s 3ms/step - loss: 0.4052 - accuracy: 0.8258\n",
            "Epoch 149/150\n",
            "45/45 [==============================] - 0s 3ms/step - loss: 0.3938 - accuracy: 0.8213\n",
            "Epoch 150/150\n",
            "45/45 [==============================] - 0s 3ms/step - loss: 0.3917 - accuracy: 0.8243\n"
          ],
          "name": "stdout"
        },
        {
          "output_type": "execute_result",
          "data": {
            "text/plain": [
              "<tensorflow.python.keras.callbacks.History at 0x7fc7d0db6f60>"
            ]
          },
          "metadata": {
            "tags": []
          },
          "execution_count": 21
        }
      ]
    },
    {
      "cell_type": "code",
      "metadata": {
        "id": "eKz6UALrWz-f",
        "colab_type": "code",
        "outputId": "46d29eef-3323-4a59-a33d-d041dbf5ba90",
        "colab": {
          "base_uri": "https://localhost:8080/",
          "height": 34
        }
      },
      "source": [
        "test_loss, test_acc = model.evaluate(X_test, y_test)"
      ],
      "execution_count": 22,
      "outputs": [
        {
          "output_type": "stream",
          "text": [
            "7/7 [==============================] - 0s 2ms/step - loss: 0.5698 - accuracy: 0.7758\n"
          ],
          "name": "stdout"
        }
      ]
    },
    {
      "cell_type": "code",
      "metadata": {
        "id": "MXkJPzGwXHPW",
        "colab_type": "code",
        "outputId": "71ba204b-c063-4a5e-f65e-45049c267a87",
        "colab": {
          "base_uri": "https://localhost:8080/",
          "height": 51
        }
      },
      "source": [
        "print('Test Loss: {}'.format(test_loss))\n",
        "print('Test Accuracy: {}'.format(test_acc))"
      ],
      "execution_count": 20,
      "outputs": [
        {
          "output_type": "stream",
          "text": [
            "Test Loss: 0.5041398406028748\n",
            "Test Accuracy: 0.7578475475311279\n"
          ],
          "name": "stdout"
        }
      ]
    },
    {
      "cell_type": "markdown",
      "metadata": {
        "id": "qIvPhCVJafGq",
        "colab_type": "text"
      },
      "source": [
        "## **Making Predictions**"
      ]
    },
    {
      "cell_type": "code",
      "metadata": {
        "id": "nZPp5lbwaedR",
        "colab_type": "code",
        "outputId": "9eef563d-e2f3-43e2-b2e6-21650a5179de",
        "colab": {
          "resources": {
            "http://localhost:8080/nbextensions/google.colab/files.js": {
              "data": "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",
              "ok": true,
              "headers": [
                [
                  "content-type",
                  "application/javascript"
                ]
              ],
              "status": 200,
              "status_text": ""
            }
          },
          "base_uri": "https://localhost:8080/",
          "height": 74
        }
      },
      "source": [
        "from google.colab import files\n",
        "uploaded = files.upload()"
      ],
      "execution_count": 23,
      "outputs": [
        {
          "output_type": "display_data",
          "data": {
            "text/html": [
              "\n",
              "     <input type=\"file\" id=\"files-4e8ca833-ff32-47bc-836a-10bad1bce795\" name=\"files[]\" multiple disabled />\n",
              "     <output id=\"result-4e8ca833-ff32-47bc-836a-10bad1bce795\">\n",
              "      Upload widget is only available when the cell has been executed in the\n",
              "      current browser session. Please rerun this cell to enable.\n",
              "      </output>\n",
              "      <script src=\"/nbextensions/google.colab/files.js\"></script> "
            ],
            "text/plain": [
              "<IPython.core.display.HTML object>"
            ]
          },
          "metadata": {
            "tags": []
          }
        },
        {
          "output_type": "stream",
          "text": [
            "Saving test.csv to test.csv\n"
          ],
          "name": "stdout"
        }
      ]
    },
    {
      "cell_type": "code",
      "metadata": {
        "id": "TL1KnzizXRXf",
        "colab_type": "code",
        "colab": {}
      },
      "source": [
        "import io\n",
        "test = pd.read_csv(io.BytesIO(uploaded['test.csv']))"
      ],
      "execution_count": 0,
      "outputs": []
    },
    {
      "cell_type": "code",
      "metadata": {
        "id": "HGtKh8cbatFN",
        "colab_type": "code",
        "outputId": "869bffc6-ba97-490c-cc07-acb234087baa",
        "colab": {
          "base_uri": "https://localhost:8080/",
          "height": 272
        }
      },
      "source": [
        "test.info()"
      ],
      "execution_count": 38,
      "outputs": [
        {
          "output_type": "stream",
          "text": [
            "<class 'pandas.core.frame.DataFrame'>\n",
            "RangeIndex: 418 entries, 0 to 417\n",
            "Data columns (total 8 columns):\n",
            " #   Column  Non-Null Count  Dtype  \n",
            "---  ------  --------------  -----  \n",
            " 0   Pclass  418 non-null    int64  \n",
            " 1   Age     418 non-null    float64\n",
            " 2   SibSp   418 non-null    int64  \n",
            " 3   Parch   418 non-null    int64  \n",
            " 4   Fare    418 non-null    float64\n",
            " 5   male    418 non-null    int64  \n",
            " 6   Q       418 non-null    int64  \n",
            " 7   S       418 non-null    int64  \n",
            "dtypes: float64(2), int64(6)\n",
            "memory usage: 26.2 KB\n"
          ],
          "name": "stdout"
        }
      ]
    },
    {
      "cell_type": "code",
      "metadata": {
        "id": "2QlNa5nlawnK",
        "colab_type": "code",
        "colab": {}
      },
      "source": [
        "data = np.array(test)"
      ],
      "execution_count": 0,
      "outputs": []
    },
    {
      "cell_type": "code",
      "metadata": {
        "id": "Yhb8jxhYa8xI",
        "colab_type": "code",
        "colab": {}
      },
      "source": [
        "# Predicting\n",
        "\n",
        "pred = model.predict([data])"
      ],
      "execution_count": 0,
      "outputs": []
    },
    {
      "cell_type": "code",
      "metadata": {
        "id": "xK-OY5ndbCyM",
        "colab_type": "code",
        "outputId": "b9f1fd1f-6c7a-4bc5-bf2e-2f9b53be2418",
        "colab": {
          "base_uri": "https://localhost:8080/",
          "height": 204
        }
      },
      "source": [
        "test.head()"
      ],
      "execution_count": 41,
      "outputs": [
        {
          "output_type": "execute_result",
          "data": {
            "text/html": [
              "<div>\n",
              "<style scoped>\n",
              "    .dataframe tbody tr th:only-of-type {\n",
              "        vertical-align: middle;\n",
              "    }\n",
              "\n",
              "    .dataframe tbody tr th {\n",
              "        vertical-align: top;\n",
              "    }\n",
              "\n",
              "    .dataframe thead th {\n",
              "        text-align: right;\n",
              "    }\n",
              "</style>\n",
              "<table border=\"1\" class=\"dataframe\">\n",
              "  <thead>\n",
              "    <tr style=\"text-align: right;\">\n",
              "      <th></th>\n",
              "      <th>Pclass</th>\n",
              "      <th>Age</th>\n",
              "      <th>SibSp</th>\n",
              "      <th>Parch</th>\n",
              "      <th>Fare</th>\n",
              "      <th>male</th>\n",
              "      <th>Q</th>\n",
              "      <th>S</th>\n",
              "    </tr>\n",
              "  </thead>\n",
              "  <tbody>\n",
              "    <tr>\n",
              "      <th>0</th>\n",
              "      <td>3</td>\n",
              "      <td>34.5</td>\n",
              "      <td>0</td>\n",
              "      <td>0</td>\n",
              "      <td>7.8292</td>\n",
              "      <td>1</td>\n",
              "      <td>1</td>\n",
              "      <td>0</td>\n",
              "    </tr>\n",
              "    <tr>\n",
              "      <th>1</th>\n",
              "      <td>3</td>\n",
              "      <td>47.0</td>\n",
              "      <td>1</td>\n",
              "      <td>0</td>\n",
              "      <td>7.0000</td>\n",
              "      <td>0</td>\n",
              "      <td>0</td>\n",
              "      <td>1</td>\n",
              "    </tr>\n",
              "    <tr>\n",
              "      <th>2</th>\n",
              "      <td>2</td>\n",
              "      <td>62.0</td>\n",
              "      <td>0</td>\n",
              "      <td>0</td>\n",
              "      <td>9.6875</td>\n",
              "      <td>1</td>\n",
              "      <td>1</td>\n",
              "      <td>0</td>\n",
              "    </tr>\n",
              "    <tr>\n",
              "      <th>3</th>\n",
              "      <td>3</td>\n",
              "      <td>27.0</td>\n",
              "      <td>0</td>\n",
              "      <td>0</td>\n",
              "      <td>8.6625</td>\n",
              "      <td>1</td>\n",
              "      <td>0</td>\n",
              "      <td>1</td>\n",
              "    </tr>\n",
              "    <tr>\n",
              "      <th>4</th>\n",
              "      <td>3</td>\n",
              "      <td>22.0</td>\n",
              "      <td>1</td>\n",
              "      <td>1</td>\n",
              "      <td>12.2875</td>\n",
              "      <td>0</td>\n",
              "      <td>0</td>\n",
              "      <td>1</td>\n",
              "    </tr>\n",
              "  </tbody>\n",
              "</table>\n",
              "</div>"
            ],
            "text/plain": [
              "   Pclass   Age  SibSp  Parch     Fare  male  Q  S\n",
              "0       3  34.5      0      0   7.8292     1  1  0\n",
              "1       3  47.0      1      0   7.0000     0  0  1\n",
              "2       2  62.0      0      0   9.6875     1  1  0\n",
              "3       3  27.0      0      0   8.6625     1  0  1\n",
              "4       3  22.0      1      1  12.2875     0  0  1"
            ]
          },
          "metadata": {
            "tags": []
          },
          "execution_count": 41
        }
      ]
    },
    {
      "cell_type": "code",
      "metadata": {
        "id": "jHv-9Z0qbGP5",
        "colab_type": "code",
        "colab": {}
      },
      "source": [
        "# The test dataset, following the Kaggle Challenge rules, needs contains the predictions and the \"PassengerId\"\n",
        "# At this step, we already have the predictions, so we can drop other columns.\n",
        "\n",
        "test.drop(columns=['Pclass', 'Age', 'Parch', 'Fare', 'male', 'Q', 'S', 'SibSp'], inplace=True)"
      ],
      "execution_count": 0,
      "outputs": []
    },
    {
      "cell_type": "code",
      "metadata": {
        "id": "1ZNl-YkmbQyu",
        "colab_type": "code",
        "colab": {}
      },
      "source": [
        "test['Survived'] = pred"
      ],
      "execution_count": 0,
      "outputs": []
    },
    {
      "cell_type": "code",
      "metadata": {
        "id": "NDCifzj3bRuE",
        "colab_type": "code",
        "outputId": "75acfcb9-928b-41f8-bec9-47030f84a639",
        "colab": {
          "base_uri": "https://localhost:8080/",
          "height": 204
        }
      },
      "source": [
        "test.head()"
      ],
      "execution_count": 44,
      "outputs": [
        {
          "output_type": "execute_result",
          "data": {
            "text/html": [
              "<div>\n",
              "<style scoped>\n",
              "    .dataframe tbody tr th:only-of-type {\n",
              "        vertical-align: middle;\n",
              "    }\n",
              "\n",
              "    .dataframe tbody tr th {\n",
              "        vertical-align: top;\n",
              "    }\n",
              "\n",
              "    .dataframe thead th {\n",
              "        text-align: right;\n",
              "    }\n",
              "</style>\n",
              "<table border=\"1\" class=\"dataframe\">\n",
              "  <thead>\n",
              "    <tr style=\"text-align: right;\">\n",
              "      <th></th>\n",
              "      <th>Survived</th>\n",
              "    </tr>\n",
              "  </thead>\n",
              "  <tbody>\n",
              "    <tr>\n",
              "      <th>0</th>\n",
              "      <td>0.068024</td>\n",
              "    </tr>\n",
              "    <tr>\n",
              "      <th>1</th>\n",
              "      <td>0.278339</td>\n",
              "    </tr>\n",
              "    <tr>\n",
              "      <th>2</th>\n",
              "      <td>0.088061</td>\n",
              "    </tr>\n",
              "    <tr>\n",
              "      <th>3</th>\n",
              "      <td>0.092727</td>\n",
              "    </tr>\n",
              "    <tr>\n",
              "      <th>4</th>\n",
              "      <td>0.531350</td>\n",
              "    </tr>\n",
              "  </tbody>\n",
              "</table>\n",
              "</div>"
            ],
            "text/plain": [
              "   Survived\n",
              "0  0.068024\n",
              "1  0.278339\n",
              "2  0.088061\n",
              "3  0.092727\n",
              "4  0.531350"
            ]
          },
          "metadata": {
            "tags": []
          },
          "execution_count": 44
        }
      ]
    },
    {
      "cell_type": "code",
      "metadata": {
        "id": "txG4WsoybhqY",
        "colab_type": "code",
        "colab": {}
      },
      "source": [
        "def format_result(col):\n",
        "  survived = col[0]\n",
        "\n",
        "  if survived >= 0.6:\n",
        "    return 1\n",
        "  else:\n",
        "    return 0"
      ],
      "execution_count": 0,
      "outputs": []
    },
    {
      "cell_type": "code",
      "metadata": {
        "id": "NE0Z6EzWcxBT",
        "colab_type": "code",
        "colab": {}
      },
      "source": [
        "# The \"PassengerId\" column needs to be enumerate from 892 to 1310\n",
        "\n",
        "test.insert(0, 'PassengerId', np.arange(892, 1310))"
      ],
      "execution_count": 0,
      "outputs": []
    },
    {
      "cell_type": "code",
      "metadata": {
        "id": "w19RTFkBdq2y",
        "colab_type": "code",
        "outputId": "644e0b9c-86e9-4934-abdb-37a2ce32978e",
        "colab": {
          "base_uri": "https://localhost:8080/",
          "height": 204
        }
      },
      "source": [
        "test.head()"
      ],
      "execution_count": 47,
      "outputs": [
        {
          "output_type": "execute_result",
          "data": {
            "text/html": [
              "<div>\n",
              "<style scoped>\n",
              "    .dataframe tbody tr th:only-of-type {\n",
              "        vertical-align: middle;\n",
              "    }\n",
              "\n",
              "    .dataframe tbody tr th {\n",
              "        vertical-align: top;\n",
              "    }\n",
              "\n",
              "    .dataframe thead th {\n",
              "        text-align: right;\n",
              "    }\n",
              "</style>\n",
              "<table border=\"1\" class=\"dataframe\">\n",
              "  <thead>\n",
              "    <tr style=\"text-align: right;\">\n",
              "      <th></th>\n",
              "      <th>PassengerId</th>\n",
              "      <th>Survived</th>\n",
              "    </tr>\n",
              "  </thead>\n",
              "  <tbody>\n",
              "    <tr>\n",
              "      <th>0</th>\n",
              "      <td>892</td>\n",
              "      <td>0.068024</td>\n",
              "    </tr>\n",
              "    <tr>\n",
              "      <th>1</th>\n",
              "      <td>893</td>\n",
              "      <td>0.278339</td>\n",
              "    </tr>\n",
              "    <tr>\n",
              "      <th>2</th>\n",
              "      <td>894</td>\n",
              "      <td>0.088061</td>\n",
              "    </tr>\n",
              "    <tr>\n",
              "      <th>3</th>\n",
              "      <td>895</td>\n",
              "      <td>0.092727</td>\n",
              "    </tr>\n",
              "    <tr>\n",
              "      <th>4</th>\n",
              "      <td>896</td>\n",
              "      <td>0.531350</td>\n",
              "    </tr>\n",
              "  </tbody>\n",
              "</table>\n",
              "</div>"
            ],
            "text/plain": [
              "   PassengerId  Survived\n",
              "0          892  0.068024\n",
              "1          893  0.278339\n",
              "2          894  0.088061\n",
              "3          895  0.092727\n",
              "4          896  0.531350"
            ]
          },
          "metadata": {
            "tags": []
          },
          "execution_count": 47
        }
      ]
    },
    {
      "cell_type": "code",
      "metadata": {
        "id": "MV0RhNdheCiW",
        "colab_type": "code",
        "colab": {}
      },
      "source": [
        "test['Survived'] = test[['Survived']].apply(format_result, axis=1)"
      ],
      "execution_count": 0,
      "outputs": []
    },
    {
      "cell_type": "markdown",
      "metadata": {
        "id": "K3tvILx42ScG",
        "colab_type": "text"
      },
      "source": [
        "# **Final Result:**"
      ]
    },
    {
      "cell_type": "code",
      "metadata": {
        "id": "RERQlF0neIyF",
        "colab_type": "code",
        "outputId": "ed351a5c-7da5-40a5-8fe2-64fe1268b46c",
        "colab": {
          "base_uri": "https://localhost:8080/",
          "height": 419
        }
      },
      "source": [
        "test"
      ],
      "execution_count": 52,
      "outputs": [
        {
          "output_type": "execute_result",
          "data": {
            "text/html": [
              "<div>\n",
              "<style scoped>\n",
              "    .dataframe tbody tr th:only-of-type {\n",
              "        vertical-align: middle;\n",
              "    }\n",
              "\n",
              "    .dataframe tbody tr th {\n",
              "        vertical-align: top;\n",
              "    }\n",
              "\n",
              "    .dataframe thead th {\n",
              "        text-align: right;\n",
              "    }\n",
              "</style>\n",
              "<table border=\"1\" class=\"dataframe\">\n",
              "  <thead>\n",
              "    <tr style=\"text-align: right;\">\n",
              "      <th></th>\n",
              "      <th>PassengerId</th>\n",
              "      <th>Survived</th>\n",
              "    </tr>\n",
              "  </thead>\n",
              "  <tbody>\n",
              "    <tr>\n",
              "      <th>0</th>\n",
              "      <td>892</td>\n",
              "      <td>0</td>\n",
              "    </tr>\n",
              "    <tr>\n",
              "      <th>1</th>\n",
              "      <td>893</td>\n",
              "      <td>0</td>\n",
              "    </tr>\n",
              "    <tr>\n",
              "      <th>2</th>\n",
              "      <td>894</td>\n",
              "      <td>0</td>\n",
              "    </tr>\n",
              "    <tr>\n",
              "      <th>3</th>\n",
              "      <td>895</td>\n",
              "      <td>0</td>\n",
              "    </tr>\n",
              "    <tr>\n",
              "      <th>4</th>\n",
              "      <td>896</td>\n",
              "      <td>0</td>\n",
              "    </tr>\n",
              "    <tr>\n",
              "      <th>...</th>\n",
              "      <td>...</td>\n",
              "      <td>...</td>\n",
              "    </tr>\n",
              "    <tr>\n",
              "      <th>413</th>\n",
              "      <td>1305</td>\n",
              "      <td>0</td>\n",
              "    </tr>\n",
              "    <tr>\n",
              "      <th>414</th>\n",
              "      <td>1306</td>\n",
              "      <td>1</td>\n",
              "    </tr>\n",
              "    <tr>\n",
              "      <th>415</th>\n",
              "      <td>1307</td>\n",
              "      <td>0</td>\n",
              "    </tr>\n",
              "    <tr>\n",
              "      <th>416</th>\n",
              "      <td>1308</td>\n",
              "      <td>0</td>\n",
              "    </tr>\n",
              "    <tr>\n",
              "      <th>417</th>\n",
              "      <td>1309</td>\n",
              "      <td>0</td>\n",
              "    </tr>\n",
              "  </tbody>\n",
              "</table>\n",
              "<p>418 rows × 2 columns</p>\n",
              "</div>"
            ],
            "text/plain": [
              "     PassengerId  Survived\n",
              "0            892         0\n",
              "1            893         0\n",
              "2            894         0\n",
              "3            895         0\n",
              "4            896         0\n",
              "..           ...       ...\n",
              "413         1305         0\n",
              "414         1306         1\n",
              "415         1307         0\n",
              "416         1308         0\n",
              "417         1309         0\n",
              "\n",
              "[418 rows x 2 columns]"
            ]
          },
          "metadata": {
            "tags": []
          },
          "execution_count": 52
        }
      ]
    },
    {
      "cell_type": "code",
      "metadata": {
        "id": "VBEBmC-I2W_5",
        "colab_type": "code",
        "colab": {}
      },
      "source": [
        ""
      ],
      "execution_count": 0,
      "outputs": []
    }
  ]
}